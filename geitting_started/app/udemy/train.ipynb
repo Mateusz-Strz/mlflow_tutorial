{
 "cells": [
  {
   "cell_type": "code",
   "execution_count": 1,
   "id": "6a380d02-3c47-4722-b651-12432de878e8",
   "metadata": {},
   "outputs": [],
   "source": [
    "import numpy as np\n",
    "import pandas as pd \n",
    "from sklearn.linear_model import ElasticNet\n",
    "from sklearn.model_selection import train_test_split\n",
    "from sklearn.metrics import mean_absolute_error, mean_squared_error, r2_score\n",
    "import mlflow"
   ]
  },
  {
   "cell_type": "code",
   "execution_count": 2,
   "id": "e0025bac-18d1-4952-ace0-54ba7137ad74",
   "metadata": {},
   "outputs": [],
   "source": [
    "def evaluation_metrics(y_test, y_pred):\n",
    "    rmse = mean_squared_error(y_test, y_pred, squared=False)\n",
    "    mae = mean_absolute_error(y_test, y_pred)\n",
    "    r2 = r2_score(y_test, y_pred)\n",
    "    return rmse, mae, r2"
   ]
  },
  {
   "cell_type": "code",
   "execution_count": 3,
   "id": "f87d982d-557f-48d8-a4bd-b1bdfaea0f5f",
   "metadata": {},
   "outputs": [],
   "source": [
    "csv_url = (\n",
    "        \"https://raw.githubusercontent.com/mlflow/mlflow/master/tests/datasets/winequality-red.csv\"\n",
    "    )"
   ]
  },
  {
   "cell_type": "code",
   "execution_count": 4,
   "id": "f87cd3df-4e96-46b9-b1fa-607999813ab1",
   "metadata": {},
   "outputs": [],
   "source": [
    "data = pd.read_csv(csv_url, sep=';')"
   ]
  },
  {
   "cell_type": "code",
   "execution_count": 5,
   "id": "0117c5f6-85d3-498a-b5ed-b44674afda21",
   "metadata": {},
   "outputs": [],
   "source": [
    "label = 'quality'"
   ]
  },
  {
   "cell_type": "code",
   "execution_count": 6,
   "id": "2b9ec8ed-eddf-4124-9bfc-e67e05d1bbd1",
   "metadata": {},
   "outputs": [],
   "source": [
    "X = data.drop(columns=label)"
   ]
  },
  {
   "cell_type": "code",
   "execution_count": 7,
   "id": "75b3a9d3-e120-4b23-86a1-cce42c6fb614",
   "metadata": {},
   "outputs": [],
   "source": [
    "y = data[label]"
   ]
  },
  {
   "cell_type": "code",
   "execution_count": 8,
   "id": "a373a256-dfec-4254-9b5f-b132775e2f53",
   "metadata": {},
   "outputs": [],
   "source": [
    "X_train, X_test, y_train, y_test = train_test_split(X, y , test_size=0.3, random_state=0)"
   ]
  },
  {
   "cell_type": "code",
   "execution_count": 9,
   "id": "3f942bf3-326b-4357-92a3-d42a462310f3",
   "metadata": {},
   "outputs": [
    {
     "name": "stdout",
     "output_type": "stream",
     "text": [
      "rmse is 0.7331514195659224\n",
      "mae is 0.5947005339746698\n",
      "r2 is 0.08896439998046235\n"
     ]
    }
   ],
   "source": [
    "with mlflow.start_run():\n",
    "    alpha = 0.7\n",
    "    l1_ratio = 0.4\n",
    "    lr = ElasticNet(alpha=alpha, l1_ratio=l1_ratio, random_state=0)\n",
    "    lr.fit(X_train, y_train)\n",
    "    predictions = lr.predict(X_test)\n",
    "    (rmse, mae,  r2) = evaluation_metrics(y_test,predictions)\n",
    "    print(f\"rmse is {rmse}\")\n",
    "    print(f\"mae is {mae}\")\n",
    "    print(f\"r2 is {r2}\")\n",
    "    \n",
    "    mlflow.log_param('alpha', alpha)\n",
    "    mlflow.log_param('l1_ratio', l1_ratio)\n",
    "\n",
    "    mlflow.log_metric('rmse', rmse)\n",
    "    mlflow.log_metric('mae', mae)\n",
    "    mlflow.log_metric('r2', r2)\n",
    "\n",
    "    mlflow.sklearn.log_model(lr, 'model')\n",
    "\n",
    "    #mlflow.log_artifact('file.txt')\n"
   ]
  }
 ],
 "metadata": {
  "kernelspec": {
   "display_name": "mlflow_venv",
   "language": "python",
   "name": "mlflow_venv"
  },
  "language_info": {
   "codemirror_mode": {
    "name": "ipython",
    "version": 3
   },
   "file_extension": ".py",
   "mimetype": "text/x-python",
   "name": "python",
   "nbconvert_exporter": "python",
   "pygments_lexer": "ipython3",
   "version": "3.11.4"
  }
 },
 "nbformat": 4,
 "nbformat_minor": 5
}
